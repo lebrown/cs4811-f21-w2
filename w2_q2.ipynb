{
  "nbformat": 4,
  "nbformat_minor": 0,
  "metadata": {
    "colab": {
      "name": "w2_q2.ipynb",
      "provenance": [],
      "collapsed_sections": []
    }
  },
  "cells": [
    {
      "cell_type": "markdown",
      "metadata": {
        "id": "X8c4HqZ5xrx4"
      },
      "source": [
        "# W2 - Q2\n",
        "\n",
        "*Introduction to Jupyter notebook adapated from  UC Berkeley's Data8 and Data6 course materials* \n",
        "\n",
        "This Python notebook is available to help answer Q2 on written assignment - W2. \n",
        "\n",
        "Notebooks are documents that can contain text, code, visualizations, and more. Jupyter notebooks support over 40 different programming languages, including Python, R, Julia, Scala, etc.\n",
        "\n",
        "Notebooks are used for literate programming, a programming paradigm introduced by Donald Knuth in 1984, in which a programming language is accompanied with a documentation language, or a natural language. In other words, the computer program has an explanation in a natural language. This approach to programming effectively treats software as works of literature (Knuth, \"Literate Programming\"). It supports people to have a strong conceptual map of what is happening in the code and also have clarity on the flow and logic of the code/program. which is helpful for both for the writer and the reader."
      ]
    },
    {
      "cell_type": "markdown",
      "metadata": {
        "id": "Ow_VpMWwyfNT"
      },
      "source": [
        "### Notebook Structure \n",
        "\n",
        "A notebook is composed of rectangular sections called **cells**. There are 2 main kinds of cells: markdown and code. A **markdown cell**, such as this one, contains text. A **code cell** contains code in Python, a programming language that we will be using for the remainder of this module. You can select any cell by clicking it once. After a cell is selected, you can navigate the notebook using the up and down arrow keys.\n",
        "\n",
        "<div class=\"alert alert-info\">\n",
        "To run the code in a code cell, first click on that cell to activate it.  It'll be highlighted with a little green or blue rectangle.  Next, you can either press the  <code><b>▶|</b> Run </code> button above or press <b><code>Shift + Return</code></b> or <b><code>Shift + Enter</code></b>. This will run the current cell and select the next one.\n",
        "</div>\n",
        "\n",
        "If a code cell is running, you will see an asterisk (\\*) appear in the square brackets to the left of the cell. Once the cell has finished running, a number will replace the asterisk and any output from the code will appear under the cell."
      ]
    },
    {
      "cell_type": "code",
      "metadata": {
        "colab": {
          "base_uri": "https://localhost:8080/"
        },
        "id": "3C249sqKy48A",
        "outputId": "f32d86ba-fc82-45e0-d75a-0d1c38711ab5"
      },
      "source": [
        "# run this cell \n",
        "print('Hello World!')"
      ],
      "execution_count": 7,
      "outputs": [
        {
          "output_type": "stream",
          "name": "stdout",
          "text": [
            "Hello World!\n"
          ]
        }
      ]
    },
    {
      "cell_type": "markdown",
      "metadata": {
        "id": "RKvuzQLuzCmz"
      },
      "source": [
        "#### Editing\n",
        "\n",
        "You can edit a Markdown cell by clicking it twice. Text in Markdown cells is written in [**Markdown**](https://daringfireball.net/projects/markdown/), a formatting syntax for plain text, so you may see some funky symbols when you edit a text cell. \n",
        "\n",
        "Once you've made your changes, you can exit text editing mode by running the cell. \n",
        "\n",
        "<div class=\"alert alert-warning\">\n",
        "<b>PRACTICE:</b><br>  \n",
        "Try double-clicking on the text below to edit the cell to fix the misspelling.\n",
        "</div>"
      ]
    },
    {
      "cell_type": "markdown",
      "metadata": {
        "id": "sK9ZnS4ZzDs-"
      },
      "source": [
        "Go Michgian Tech Huskeis!"
      ]
    },
    {
      "cell_type": "markdown",
      "metadata": {
        "id": "PLHlD3ZYzIkB"
      },
      "source": [
        "Code cells can be edited any time after they are highlighted. \n",
        "\n",
        "<div class=\"alert alert-warning\">\n",
        "<b>PRACTICE:</b><br>   \n",
        "Try editing the next code cell to print your name.\n",
        "</div>"
      ]
    },
    {
      "cell_type": "markdown",
      "metadata": {
        "id": "qZq4M8DHzT2E"
      },
      "source": [
        "#### Adding Cells\n",
        "You can add a cell by clicking <b><code>Insert > Insert Cell Below</code></b> and then choosing the cell type in the drop down menu. \n",
        "\n",
        "<div class=\"alert alert-warning\">\n",
        "<b>PRACTICE:</b><br>     \n",
        "Try adding a cell below here and printing your birthday (format: mm/dd/yyyy). Do not forget the quotation marks!\n",
        "</div>\n",
        "\n",
        "You can add cells by pressing the plus sign icon in the menu bar. This will add (by default) a code cell immediately below your current highlighted cell.\n",
        "\n",
        "To convert a cell to markdown, you can press 'Cell' in the menu bar, select 'Cell Type', and finally pick the desired option. This works the other way around too!  (you can also use the drop down menu in the toolbar above)"
      ]
    },
    {
      "cell_type": "markdown",
      "metadata": {
        "id": "L39pXTo_zbnD"
      },
      "source": [
        "#### Deleting Cells\n",
        "You can delete a cell by clicking the <b><code>scissors</code></b> at the top menu or <b><code>Edit > Cut Cells</code></b>. Delete the next cell below here.\n",
        "\n",
        "A common fear is deleting a cell that you needed -- but don't worry! This can be undone using 'Edit' > 'Undo Delete Cells'! If you accidentally delete content in a cell, you can use `Ctrl` + `Z` to undo.\n",
        "\n",
        "<div class=\"alert alert-warning\">\n",
        "<b>PRACTICE:</b><br>  \n",
        "Delete the code cell below. \n",
        "</div>"
      ]
    },
    {
      "cell_type": "code",
      "metadata": {
        "colab": {
          "base_uri": "https://localhost:8080/"
        },
        "id": "dhG34idyzcn6",
        "outputId": "391ef554-661f-4dfc-e22e-b62cb585b990"
      },
      "source": [
        "# DELETE THIS CELL \n",
        "print(\"delete me\")"
      ],
      "execution_count": 8,
      "outputs": [
        {
          "output_type": "stream",
          "name": "stdout",
          "text": [
            "delete me\n"
          ]
        }
      ]
    },
    {
      "cell_type": "markdown",
      "metadata": {
        "id": "mQmLwFJ6ztJU"
      },
      "source": [
        "#### Saving and Loading\n",
        "\n",
        "Your notebook can record all of your text and code edits, as well as any graphs you generate or calculations you make. \n",
        "\n",
        "You are accessing the Jupyter notebook using \"Binder\", which allows hosted notebooks (from a url or github repository) to be shared as an interactive environment. \n",
        "\n",
        "Therefore, if you close this page and relaunch the notebook from the website you will lose your changes.  \n",
        "\n",
        "Alternatively, if you access the notebook from a local computer, you can save the notebook as you make changes by clicking Control-S, clicking the floppy disc icon in the toolbar at the top of the page, or by going to the File menu and selecting \"Save and Checkpoint\".\n",
        "\n",
        "**Note:** after loading a notebook you will see all the outputs (graphs, computations, etc) from your last session, but you won't be able to use any variables you assigned or functions you defined. You can get the functions and variables back by re-running the cells where they were defined- the easiest way is to highlight the cell where you left off work, then go to the Cell menu at the top of the screen and click \"Run all above\". You can also use this menu to run all cells in the notebook by clicking \"Run all\"."
      ]
    },
    {
      "cell_type": "markdown",
      "metadata": {
        "id": "b6YDnH89z2w3"
      },
      "source": [
        "## Getting Started \n",
        "\n",
        "Let's start by importing some desired packages."
      ]
    },
    {
      "cell_type": "code",
      "metadata": {
        "id": "0NYePvMDtrPy"
      },
      "source": [
        "import time\n",
        "import numpy as np\n",
        "import matplotlib as mpl \n",
        "import matplotlib.pylab as plt\n",
        "%matplotlib inline"
      ],
      "execution_count": 9,
      "outputs": []
    },
    {
      "cell_type": "code",
      "metadata": {
        "id": "6j84zmGzxe6y"
      },
      "source": [
        "# import Genetic Algorithm method and parameters\n",
        "from ga import *"
      ],
      "execution_count": 10,
      "outputs": []
    },
    {
      "cell_type": "markdown",
      "metadata": {
        "id": "-oCitOxyxql7"
      },
      "source": [
        "Let's try running an inital Genetic algorithm with the default parameters. "
      ]
    },
    {
      "cell_type": "code",
      "metadata": {
        "colab": {
          "base_uri": "https://localhost:8080/"
        },
        "id": "KPkJBL0w1-l5",
        "outputId": "7617f343-9a01-4ec6-9dbd-2ecc5fa6bf70"
      },
      "source": [
        "pop = init_population(max_population, gene_pool, len(target))\n",
        "soln, fitv,  gen = genetic_algorithm_stepwise(pop, fitness_fn, gene_pool, \n",
        "                                              f_thres, ngen, mutation_rate, mute=False)"
      ],
      "execution_count": 4,
      "outputs": [
        {
          "output_type": "stream",
          "name": "stdout",
          "text": [
            "Current best: jGOfV+HLkZ.ArOWH-I2 !\tGeneration 0\tFitness: 2\n",
            "Current best: yV41 iTlI9+vAs tVfunZ\tGeneration 50\tFitness: 10\n",
            "Current best: JP41 ILWI1+DAs JAfunZ\tGeneration 100\tFitness: 10\n",
            "Current best: Jc!1 IZlI1+DAs JqfunZ\tGeneration 150\tFitness: 10\n",
            "Current best: Je?1 mZlIW+DAs 5qfunZ\tGeneration 200\tFitness: 10\n",
            "Current best: 58D1  ZpI9+rAs JqfunZ\tGeneration 250\tFitness: 11\n",
            "Current best: JET1  ZlI9+wAs JqfunZ\tGeneration 300\tFitness: 10\n",
            "Current best: GE!1 eZoI2+YAs Jifunq\tGeneration 350\tFitness: 10\n",
            "Current best: Je!1  ZlI2+DAs JqfunZ\tGeneration 400\tFitness: 10\n",
            "Current best: JX!1 dZlI2+GAs Jqfun9\tGeneration 450\tFitness: 11\n",
            "Current best: iy!1  ?oIz+QAs jqfun9\tGeneration 500\tFitness: 10\n",
            "Current best: J5!1  ?eI2+HAs sqfunb\tGeneration 550\tFitness: 10\n",
            "Current best: J8!1  boI2+HAs yqfun9\tGeneration 600\tFitness: 11\n",
            "Current best: i8Q1  JoIu+TAs sqfunm\tGeneration 650\tFitness: 11\n",
            "Current best: X8!1  0KIu+TAs yqfunW\tGeneration 700\tFitness: 11\n",
            "Current best: X8!1  0KIF+TAs sqfunn\tGeneration 750\tFitness: 11\n",
            "Current best: X8x1 LgKIW+xAs yqfuny\tGeneration 800\tFitness: 11\n",
            "Current best: X8G1 ogKIH+xAs yqfuny\tGeneration 850\tFitness: 11\n",
            "Current best: X8G1 LgEIW+xAs yqfuny\tGeneration 900\tFitness: 11\n",
            "Current best: R8G1 L4KIY+GAs yrfuny\tGeneration 950\tFitness: 12\n",
            "Final:        X8G1 o4KIH+GAs yqfuny\tGeneration 999\tFitness: 12\n"
          ]
        }
      ]
    },
    {
      "cell_type": "markdown",
      "metadata": {
        "id": "4u6ODOYi5ZcD"
      },
      "source": [
        "## Q2(a)\n",
        "\n",
        "Explore the parameter space by varying the number of generations `ngen` between 50 and 500 in increments of 50 while keeping all other parameters fixed at the default values. "
      ]
    },
    {
      "cell_type": "code",
      "metadata": {
        "id": "03OPnB98zeqW",
        "colab": {
          "base_uri": "https://localhost:8080/"
        },
        "outputId": "268906db-212e-48da-b9bd-17b9a9a26fc0"
      },
      "source": [
        "gen_range = [50, 100, 150, 200, 250, 300, 350, 400, 450, 500]\n",
        "len(gen_range)"
      ],
      "execution_count": 5,
      "outputs": [
        {
          "output_type": "execute_result",
          "data": {
            "text/plain": [
              "10"
            ]
          },
          "metadata": {},
          "execution_count": 5
        }
      ]
    },
    {
      "cell_type": "code",
      "metadata": {
        "id": "8MvZe3w4uVLk",
        "colab": {
          "base_uri": "https://localhost:8080/"
        },
        "outputId": "e46f35d7-46fb-41ad-fc50-128b53b564b0"
      },
      "source": [
        "time_values = np.zeros((10,10))\n",
        "fit_values = np.zeros((10,10))\n",
        "gen_values = np.zeros((10,10))\n",
        "gen_range = [50, 100, 150, 200, 250, 300, 350, 400, 450, 500]\n",
        "for j in range(10):\n",
        "  for i in range(10):\n",
        "    start = time.time()\n",
        "    pop = init_population(max_population, gene_pool, len(target))\n",
        "    soln, fitv,  gen = genetic_algorithm_stepwise(pop, fitness_fn, gene_pool, \n",
        "                                                  f_thres, gen_range[j], mutation_rate, True) \n",
        "    end = time.time()\n",
        "    print(end-start)\n",
        "    time_values[i,j] = end-start\n",
        "    fit_values[i,j] = fitv\n",
        "    gen_values[i,j] = gen\n",
        "\n"
      ],
      "execution_count": 11,
      "outputs": [
        {
          "output_type": "stream",
          "name": "stdout",
          "text": [
            "Final:        48Z1s+f3IJ4GAsh7sCuw!\tGeneration 49\tFitness: 10\n",
            "1.646709680557251\n",
            "Final:        4Z14e+ AIN+Geo xKfrc!\tGeneration 49\tFitness: 11\n",
            "1.6097633838653564\n",
            "Final:        b81G +xAX QGw-iy fjnN\tGeneration 49\tFitness: 10\n",
            "1.6255602836608887\n",
            "Final:        48o1 A e54+YRfqa bunA\tGeneration 49\tFitness: 9\n",
            "1.5830156803131104\n",
            "Final:        48112vuAx +GAB RKfu.3\tGeneration 49\tFitness: 12\n",
            "1.624403476715088\n",
            "Final:        481E i9At riAs8b WOV!\tGeneration 49\tFitness: 10\n",
            "1.5949995517730713\n",
            "Final:        481f + AI +gA? -PfuGM\tGeneration 49\tFitness: 14\n",
            "1.621825933456421\n",
            "Final:        a811vY PI +Gps 3sHuhN\tGeneration 49\tFitness: 11\n",
            "1.6141960620880127\n",
            "Final:        4sW1 jzzISVlXs rqfun!\tGeneration 49\tFitness: 10\n",
            "1.6294145584106445\n",
            "Final:        D81Y .eAIeQcAs xefue!\tGeneration 49\tFitness: 11\n",
            "1.5989415645599365\n",
            "Final:        481J q AI6v3xs m Lun!\tGeneration 99\tFitness: 13\n",
            "3.333197832107544\n",
            "Final:        !81mY+ AI +Go208 fiA!\tGeneration 99\tFitness: 12\n",
            "3.2894577980041504\n",
            "Final:        38VV +-nI IkA. t 2Fn!\tGeneration 99\tFitness: 10\n",
            "3.284137487411499\n",
            "Final:        4T11o2 wf +GAx 6bfpn!\tGeneration 99\tFitness: 12\n",
            "3.297386884689331\n",
            "Final:        88I1U1 fI +DQs 8QfunO\tGeneration 99\tFitness: 11\n",
            "3.2760541439056396\n",
            "Final:        .811 0KAI +vAdqH funv\tGeneration 99\tFitness: 13\n",
            "3.2960691452026367\n",
            "Final:        4811 Q AI-mGA4 7 9uP!\tGeneration 99\tFitness: 14\n",
            "3.2686760425567627\n",
            "Final:        q811gtzA- ?+Ms 2 fwn!\tGeneration 99\tFitness: 11\n",
            "3.303682565689087\n",
            "Final:        i8OjU+kWl +GAs pMuYn!\tGeneration 99\tFitness: 10\n",
            "3.3080995082855225\n",
            "Final:        L861a+ yIl.jAsP18RuP!\tGeneration 99\tFitness: 9\n",
            "3.214650869369507\n",
            "Final:        481H-D Ag wGis3Rffunw\tGeneration 149\tFitness: 11\n",
            "4.892096519470215\n",
            "Final:        481f +3AI10GAv u luM!\tGeneration 149\tFitness: 13\n",
            "4.92024040222168\n",
            "Final:        P81gC+sYwo+GAJ , fun!\tGeneration 149\tFitness: 12\n",
            "4.968089818954468\n",
            "Final:        l3110+hAh OGhsz3 fun!\tGeneration 149\tFitness: 12\n",
            "4.88834547996521\n",
            "Final:        48nq +JAI.+j+s g nDn!\tGeneration 149\tFitness: 12\n",
            "4.899012327194214\n",
            "Final:        4611 + 0Tn+GAs E SQn!\tGeneration 149\tFitness: 14\n",
            "4.934025049209595\n",
            "Final:        4811B+nAI1+nAs   fun!\tGeneration 149\tFitness: 16\n",
            "4.98847508430481\n",
            "Final:        42Z?2z AllH6A0 j fyn!\tGeneration 149\tFitness: 9\n",
            "4.856065988540649\n",
            "Final:        4r1- q WI +GAs B fNnA\tGeneration 149\tFitness: 14\n",
            "4.949162483215332\n",
            "Final:        481N ,dAc +MAs,BoDun!\tGeneration 149\tFitness: 12\n",
            "4.966541767120361\n",
            "Final:        4to1 +SHI Zsnssu zun!\tGeneration 199\tFitness: 11\n",
            "6.6242475509643555\n",
            "Final:        Z8r1r+ CHe+GwsNQ wunv\tGeneration 199\tFitness: 10\n",
            "6.506513833999634\n",
            "Final:        A865WR AIO+GAsG8 k4nm\tGeneration 199\tFitness: 10\n",
            "6.577100992202759\n",
            "Final:        +-11X+bAIk+GAs Wvf9n!\tGeneration 199\tFitness: 13\n",
            "6.593724727630615\n",
            "Final:        T8DXr+4AI +Rus jRKuc!\tGeneration 199\tFitness: 10\n",
            "6.569631814956665\n",
            "Final:        4Zo1q+-GI +G+s i fznt\tGeneration 199\tFitness: 12\n",
            "6.587799787521362\n",
            "Final:        O8U4 + Aq4OGAoCL fKY!\tGeneration 199\tFitness: 10\n",
            "6.551366329193115\n",
            "Final:        yTH1 G 2I +kAs aylun!\tGeneration 199\tFitness: 12\n",
            "6.581092596054077\n",
            "Final:        8811l+9Ao VlAQUw fuM!\tGeneration 199\tFitness: 11\n",
            "6.515386581420898\n",
            "Final:        4811 +rTIy1Gu6 n Cun!\tGeneration 199\tFitness: 13\n",
            "6.581210613250732\n",
            "Final:        s811 P YU +GbshP guAC\tGeneration 249\tFitness: 11\n",
            "8.249918937683105\n",
            "Final:        4811 . AIE+GAsb5uaun!\tGeneration 249\tFitness: 15\n",
            "8.416279554367065\n",
            "Final:        88B1 I TIW0GAsyaPfyn!\tGeneration 249\tFitness: 11\n",
            "8.197853088378906\n",
            "Final:        t8I5 + 4I O5As,+ Run8\tGeneration 249\tFitness: 11\n",
            "8.213276624679565\n",
            "Final:        4811O+0AIW+?AA 15fun!\tGeneration 249\tFitness: 14\n",
            "8.355701446533203\n",
            "Final:        4X11 +YAF nEif zpfun!\tGeneration 249\tFitness: 12\n",
            "8.254496812820435\n",
            "Final:        4k1q +qAIE+GAsJb iLn!\tGeneration 249\tFitness: 13\n",
            "8.196247339248657\n",
            "Final:        qq1Y.b8AI +GAs72efKn0\tGeneration 249\tFitness: 10\n",
            "8.17449426651001\n",
            "Final:        X+1Ig+ kI +XA Df fun!\tGeneration 249\tFitness: 12\n",
            "8.351518392562866\n",
            "Final:        4815 + Ak.+GAs 6 Ounv\tGeneration 249\tFitness: 15\n",
            "8.373393058776855\n",
            "Final:        O8U1rNgAIU+GAsO. fD?!\tGeneration 299\tFitness: 11\n",
            "9.915144681930542\n",
            "Final:        L8X1 + VqZ+GAs U fun!\tGeneration 299\tFitness: 15\n",
            "10.057344913482666\n",
            "Final:        481ry+HAI MGAsfZ3fun!\tGeneration 299\tFitness: 14\n",
            "10.11449933052063\n",
            "Final:        4f.3 ! AK i1fs + fun!\tGeneration 299\tFitness: 12\n",
            "10.017041683197021\n",
            "Final:        48l1 c-iID+GAsi+nfun!\tGeneration 299\tFitness: 13\n",
            "10.02170705795288\n",
            "Final:        4811 +C5IM+22s j42enB\tGeneration 299\tFitness: 11\n",
            "10.030256986618042\n",
            "Final:        48f1p+ XI MNAs , n7n!\tGeneration 299\tFitness: 13\n",
            "9.99017333984375\n",
            "Final:        H81j A qN +GAs d lun!\tGeneration 299\tFitness: 14\n",
            "10.00796389579773\n",
            "Final:        481K + jIO.Gr0 V fun!\tGeneration 299\tFitness: 14\n",
            "10.053736686706543\n",
            "Final:        48114+iAI +GAsTr+,bn!\tGeneration 299\tFitness: 14\n",
            "10.107120990753174\n",
            "Final:        481Jq+NAI +Gss . Lan!\tGeneration 349\tFitness: 14\n",
            "11.731413125991821\n",
            "Final:        4 11 + AI BGis stfpn!\tGeneration 349\tFitness: 15\n",
            "11.724365234375\n",
            "Final:        4811 !tr7 tGAsMtMfuP!\tGeneration 349\tFitness: 12\n",
            "11.708184957504272\n",
            "Final:        481u +9AI1+GAs 6 fZ1!\tGeneration 349\tFitness: 15\n",
            "11.72606348991394\n",
            "Final:        48K1w+ AQ +fAs 7N77nH\tGeneration 349\tFitness: 12\n",
            "11.798864603042603\n",
            "Final:        f81hiL AM +GAs !cbxn!\tGeneration 349\tFitness: 12\n",
            "11.636685132980347\n",
            "Final:        4H1b y AIFIGAslQEfIn!\tGeneration 349\tFitness: 12\n",
            "11.458361864089966\n",
            "Final:        4811td 4vy+YA0 9tA n!\tGeneration 349\tFitness: 10\n",
            "11.481652975082397\n",
            "Final:        T81pD+2IIK+GAs fQfun7\tGeneration 349\tFitness: 12\n",
            "11.593604564666748\n",
            "Final:        Q81Xz+ +I +B,s 0 Nunk\tGeneration 349\tFitness: 12\n",
            "11.691651582717896\n",
            "Final:        4J1J +KAF +GAlzT fuz!\tGeneration 399\tFitness: 13\n",
            "13.197119951248169\n",
            "Final:        GPS1 D AI5+GNIaFEfub!\tGeneration 399\tFitness: 10\n",
            "13.04243516921997\n",
            "Final:        K871 +ZAI +BAs .Nfunu\tGeneration 399\tFitness: 14\n",
            "13.226473569869995\n",
            "Final:        aa11 KJAIS+GQs 8vfun!\tGeneration 399\tFitness: 13\n",
            "13.218523979187012\n",
            "Final:        4Tn1m+UAt CGAx   fum!\tGeneration 399\tFitness: 12\n",
            "13.194292545318604\n",
            "Final:        4811 I AI 9GAs D P n!\tGeneration 399\tFitness: 16\n",
            "13.474217891693115\n",
            "Final:        4U117+GAbXlGAs x fun!\tGeneration 399\tFitness: 14\n",
            "13.3603994846344\n",
            "Final:        4811 + JIY3G x t fun!\tGeneration 399\tFitness: 15\n",
            "13.432228326797485\n",
            "Final:        4818cipAk HGNs2jpnuW!\tGeneration 399\tFitness: 9\n",
            "12.94072151184082\n",
            "Final:        4p1. + AM +GAqMhUfqn!\tGeneration 399\tFitness: 13\n",
            "13.335488557815552\n",
            "Final:        48W1 + +9t+IwsucEfun!\tGeneration 449\tFitness: 12\n",
            "15.011743783950806\n",
            "Final:        4811sv AIw+SAs x9.An!\tGeneration 449\tFitness: 13\n",
            "15.014703512191772\n",
            "Final:        45bu + AI PGMs   7u!!\tGeneration 449\tFitness: 13\n",
            "14.648794651031494\n",
            "Final:        4Y11 ? 7IpB+Asg+ fYn!\tGeneration 449\tFitness: 12\n",
            "14.993149995803833\n",
            "Final:        4811a+ AI +cAsk, fuc!\tGeneration 449\tFitness: 16\n",
            "15.28648042678833\n",
            "Final:        4np1 +WAI +GAw   fung\tGeneration 449\tFitness: 15\n",
            "15.18658995628357\n",
            "Final:        UL11 +fAh CG-sFP Lun!\tGeneration 449\tFitness: 12\n",
            "14.798973083496094\n",
            "Final:        4811 Y7vj xGAs SIfunu\tGeneration 449\tFitness: 13\n",
            "14.940392971038818\n",
            "Final:        4qNJRl A8 LGAI . Wun!\tGeneration 449\tFitness: 11\n",
            "14.909905910491943\n",
            "Final:        48c1c+LAIg4dAs p fuP!\tGeneration 449\tFitness: 13\n",
            "14.994420289993286\n",
            "Final:        481u q o5 0GAs W fun!\tGeneration 499\tFitness: 15\n",
            "16.839258909225464\n",
            "Final:        h811aK AJw+GAs Kkf7t!\tGeneration 499\tFitness: 12\n",
            "16.72670578956604\n",
            "Final:        4ypv H Ao +GAs RYfun!\tGeneration 499\tFitness: 14\n",
            "16.804219007492065\n",
            "Final:        4811 + AW +GAs f fNnx\tGeneration 499\tFitness: 17\n",
            "16.734325885772705\n",
            "Final:        48K1 + t5 +FAd 6lf.n!\tGeneration 499\tFitness: 13\n",
            "16.621992826461792\n",
            "Final:        18M1y+ 7I +GAsE  fun!\tGeneration 499\tFitness: 15\n",
            "16.597402811050415\n",
            "Final:        4811 +9fI +GqsgS fzn!\tGeneration 499\tFitness: 15\n",
            "16.76508903503418\n",
            "Final:        0811 Z AI +GAs k fw1!\tGeneration 499\tFitness: 16\n",
            "17.00986933708191\n",
            "Final:        48u1 +6zIm+GTs L -uv!\tGeneration 499\tFitness: 13\n",
            "16.74855947494507\n",
            "Final:        48z1 + AD hGAszm hun4\tGeneration 499\tFitness: 14\n",
            "16.95083999633789\n"
          ]
        }
      ]
    },
    {
      "cell_type": "code",
      "metadata": {
        "id": "IwoIMfPRvBCP",
        "colab": {
          "base_uri": "https://localhost:8080/",
          "height": 304
        },
        "outputId": "32d1c277-ba67-4230-c204-4d53e416c6fe"
      },
      "source": [
        "fig = plt.figure()\n",
        "plt.errorbar(gen_range, time_values.mean(axis=0), time_values.std(axis=0), lw=2)\n",
        "plt.xlabel('Number of Generations', size=14)\n",
        "plt.ylabel('Time (s)', size=14)\n",
        "plt.title('Ave. GA Running Time +/- Std. Dev.', size=16)\n",
        "plt.xticks(fontsize=12)\n",
        "plt.yticks(fontsize=12)\n",
        "fig.savefig('figA-time.eps', bbox_inches='tight', format='eps')"
      ],
      "execution_count": 12,
      "outputs": [
        {
          "output_type": "display_data",
          "data": {
            "image/png": "[encoded data removed]",
            "text/plain": [
              "<Figure size 432x288 with 1 Axes>"
            ]
          },
          "metadata": {
            "needs_background": "light"
          }
        }
      ]
    },
    {
      "cell_type": "code",
      "metadata": {
        "id": "IEhZ8eIA3qSQ",
        "colab": {
          "base_uri": "https://localhost:8080/",
          "height": 340
        },
        "outputId": "27e37203-fb22-4dbc-a587-508cb3dab701"
      },
      "source": [
        "fig = plt.figure()\n",
        "eb = plt.errorbar(gen_range, fit_values.mean(axis=0), fit_values.std(axis=0), lw=2)\n",
        "plt.xlabel('Number of Generations', size=14)\n",
        "plt.ylabel('Fitness Score', size=14)\n",
        "plt.title('Ave. Fitness of Best Individual +/- Std. Dev.', size=16)\n",
        "mx = plt.axhline(len(target), color='r', lw=2)\n",
        "plt.legend([eb, mx], ['GA Fitness', 'Max Fitness Score'], loc=4)\n",
        "plt.xticks(fontsize=12)\n",
        "plt.yticks(fontsize=12)\n",
        "fig.savefig('figA-fit.eps', bbox_inches='tight', format='eps');"
      ],
      "execution_count": 14,
      "outputs": [
        {
          "output_type": "stream",
          "name": "stderr",
          "text": [
            "The PostScript backend does not support transparency; partially transparent artists will be rendered opaque.\n",
            "The PostScript backend does not support transparency; partially transparent artists will be rendered opaque.\n"
          ]
        },
        {
          "output_type": "display_data",
          "data": {
            "image/png": "[encoded data removed]",
            "text/plain": [
              "<Figure size 432x288 with 1 Axes>"
            ]
          },
          "metadata": {
            "needs_background": "light"
          }
        }
      ]
    },
    {
      "cell_type": "markdown",
      "metadata": {
        "id": "AxC5akz-_RAk"
      },
      "source": [
        "## Q2(b)\n",
        "\n",
        "Explore the parameter space by varying the population size `max_population` between 50 and 500 in increments of 50 while keeping all other parameters fixed at the default values. \n"
      ]
    },
    {
      "cell_type": "code",
      "metadata": {
        "id": "aj0nWjM95vP-"
      },
      "source": [
        "ngen = 1000             # set back to default\n",
        "\n"
      ],
      "execution_count": null,
      "outputs": []
    },
    {
      "cell_type": "code",
      "metadata": {
        "id": "vN0S4B2F51cy"
      },
      "source": [
        ""
      ],
      "execution_count": 14,
      "outputs": []
    },
    {
      "cell_type": "code",
      "metadata": {
        "id": "TP-uRWBI_zM5"
      },
      "source": [
        ""
      ],
      "execution_count": null,
      "outputs": []
    },
    {
      "cell_type": "code",
      "metadata": {
        "id": "52348Y3r_0cL"
      },
      "source": [
        ""
      ],
      "execution_count": null,
      "outputs": []
    },
    {
      "cell_type": "markdown",
      "metadata": {
        "id": "oPr2XuxdBDPg"
      },
      "source": [
        "## Q2(c) \n",
        "\n",
        "Explore the parameter space by varying the mutation rate `mutation_rate` between 0.025 and 0.25 in increments of 0.025 while keeping all other parameters fixed at the default values.\n"
      ]
    },
    {
      "cell_type": "code",
      "metadata": {
        "id": "uuP9Hg9qBEb5"
      },
      "source": [
        "ngen = 1000             # set back to default\n",
        "max_population = 100    # set back to default\n",
        "\n"
      ],
      "execution_count": null,
      "outputs": []
    },
    {
      "cell_type": "code",
      "metadata": {
        "id": "CbYVmFkXBT69"
      },
      "source": [
        ""
      ],
      "execution_count": null,
      "outputs": []
    },
    {
      "cell_type": "code",
      "metadata": {
        "id": "bPbcjGlzBVS_"
      },
      "source": [
        ""
      ],
      "execution_count": null,
      "outputs": []
    },
    {
      "cell_type": "code",
      "metadata": {
        "id": "DPE6DnOdB80t"
      },
      "source": [
        ""
      ],
      "execution_count": null,
      "outputs": []
    }
  ]
}